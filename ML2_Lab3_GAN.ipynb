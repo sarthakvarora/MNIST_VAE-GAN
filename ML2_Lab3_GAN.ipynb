{
  "nbformat": 4,
  "nbformat_minor": 0,
  "metadata": {
    "colab": {
      "name": "ML2_Lab3_GAN.ipynb",
      "provenance": [],
      "collapsed_sections": [],
      "machine_shape": "hm"
    },
    "kernelspec": {
      "name": "python3",
      "display_name": "Python 3"
    },
    "language_info": {
      "name": "python"
    },
    "accelerator": "GPU"
  },
  "cells": [
    {
      "cell_type": "markdown",
      "source": [
        "# Importing Libraries"
      ],
      "metadata": {
        "id": "ulm-VOCV25C9"
      }
    },
    {
      "cell_type": "code",
      "source": [
        "import keras\n",
        "import math\n",
        "import os\n",
        "import time\n",
        "import random\n",
        "import PIL\n",
        "import glob\n",
        "import imageio\n",
        "import numpy as np\n",
        "import tensorflow as tf\n",
        "import matplotlib.pyplot as plt\n",
        "from IPython import display\n",
        "from tensorflow.keras import layers\n",
        "from functools import partial\n",
        "from sklearn.model_selection import KFold\n",
        "from keras.datasets import mnist\n",
        "from sklearn.model_selection import train_test_split"
      ],
      "metadata": {
        "id": "Bz-0T-9vx92_"
      },
      "execution_count": 155,
      "outputs": []
    },
    {
      "cell_type": "code",
      "source": [
        "(trainX, trainy), (_, _) = mnist.load_data()"
      ],
      "metadata": {
        "id": "OhL6yTBT3Qnx"
      },
      "execution_count": 156,
      "outputs": []
    },
    {
      "cell_type": "code",
      "source": [
        "plt.imshow(trainX[176], cmap='gray')"
      ],
      "metadata": {
        "colab": {
          "base_uri": "https://localhost:8080/",
          "height": 282
        },
        "id": "UlMF1Ldib6U_",
        "outputId": "2a00ef3a-9eac-48a5-d6bc-8601ad98ab25"
      },
      "execution_count": 157,
      "outputs": [
        {
          "output_type": "execute_result",
          "data": {
            "text/plain": [
              "<matplotlib.image.AxesImage at 0x7fdff53e1450>"
            ]
          },
          "metadata": {},
          "execution_count": 157
        },
        {
          "output_type": "display_data",
          "data": {
            "image/png": "[encoded data removed]",
            "text/plain": [
              "<Figure size 432x288 with 1 Axes>"
            ]
          },
          "metadata": {
            "needs_background": "light"
          }
        }
      ]
    },
    {
      "cell_type": "code",
      "source": [
        "# trainX = trainX.astype('float32') / 255\n",
        "trainX = trainX.reshape(trainX.shape[0], 28, 28, 1).astype('float32')\n",
        "trainX = (trainX - 127.5) / 127.5\n",
        "trainX = trainX.reshape(trainX.shape[0], trainX.shape[1]*trainX.shape[2])"
      ],
      "metadata": {
        "id": "lhjBI7033-DQ"
      },
      "execution_count": 158,
      "outputs": []
    },
    {
      "cell_type": "code",
      "source": [
        "BUFFER_SIZE = 60000\n",
        "BATCH_SIZE = 64"
      ],
      "metadata": {
        "id": "sv_LzaEgIsFg"
      },
      "execution_count": 159,
      "outputs": []
    },
    {
      "cell_type": "code",
      "source": [
        "train_dataset = tf.data.Dataset.from_tensor_slices(trainX).shuffle(BUFFER_SIZE).batch(BATCH_SIZE)"
      ],
      "metadata": {
        "id": "dwahSyX6ItBV"
      },
      "execution_count": 160,
      "outputs": []
    },
    {
      "cell_type": "code",
      "source": [
        "trainy[trainy != 5] = 0\n",
        "trainy[trainy == 5] = 1\n",
        "len(trainy[trainy == 1])"
      ],
      "metadata": {
        "id": "jqXiGoAj4ugL",
        "colab": {
          "base_uri": "https://localhost:8080/"
        },
        "outputId": "775d2c0e-ef3c-4d40-c2d8-8d6e5f3cc106"
      },
      "execution_count": 161,
      "outputs": [
        {
          "output_type": "execute_result",
          "data": {
            "text/plain": [
              "5421"
            ]
          },
          "metadata": {},
          "execution_count": 161
        }
      ]
    },
    {
      "cell_type": "code",
      "source": [
        "all_rows = []\n",
        "i_nr = 0\n",
        "for i in range(len(trainy)):\n",
        "    if (trainy[i] == 1): \n",
        "        all_rows.append(i)\n",
        "\n",
        "# deleting first 95% values (5421*0.95 = 5150) for value 5\n",
        "drop_rows = all_rows[:5150]\n",
        "pick_rows = all_rows[5150:]\n",
        "\n",
        "trainX1 = np.delete(trainX, drop_rows, axis=0)\n",
        "trainy1 = np.delete(trainy, drop_rows, axis=0)\n",
        "\n",
        "print(trainX1.shape)\n",
        "print(trainy1.shape)\n",
        "print(len(trainy1[trainy1 == 1]))                 # should be 271\n",
        "# 54850 + 5150 (rows dropped) = 60k"
      ],
      "metadata": {
        "colab": {
          "base_uri": "https://localhost:8080/"
        },
        "id": "q2J0cu4MGV4Z",
        "outputId": "9f6caf86-e0bd-4638-d7e8-027a338a3315"
      },
      "execution_count": 162,
      "outputs": [
        {
          "output_type": "stream",
          "name": "stdout",
          "text": [
            "(54850, 784)\n",
            "(54850,)\n",
            "271\n"
          ]
        }
      ]
    },
    {
      "cell_type": "code",
      "source": [
        "trainX2 = trainX[pick_rows]"
      ],
      "metadata": {
        "id": "nn01sI8HpWQ6"
      },
      "execution_count": 163,
      "outputs": []
    },
    {
      "cell_type": "code",
      "source": [
        "trainX2 = trainX2.reshape((271, 28, 28, 1))"
      ],
      "metadata": {
        "id": "5ApfzmUItr9q"
      },
      "execution_count": 164,
      "outputs": []
    },
    {
      "cell_type": "code",
      "source": [
        "# stratified sampling\n",
        "trainX1 = trainX1.reshape((54850, 28, 28, 1))\n",
        "trainy1 = tf.keras.utils.to_categorical(trainy1)\n",
        "\n",
        "x_train, x_test, y_train, y_test = train_test_split(trainX1, trainy1, test_size=0.2, stratify=trainy1, random_state=146) "
      ],
      "metadata": {
        "id": "Y0NTGxKYUvDP"
      },
      "execution_count": 165,
      "outputs": []
    },
    {
      "cell_type": "code",
      "source": [
        "model = keras.models.Sequential()\n",
        "model.add(keras.layers.Conv2D(32, kernel_size=3, activation='relu', input_shape=(28, 28, 1)))\n",
        "model.add(keras.layers.MaxPooling2D(pool_size=2))\n",
        "model.add(keras.layers.Flatten())\n",
        "model.add(keras.layers.Dense(128, activation='relu'))\n",
        "model.add(keras.layers.Dropout(0.2))\n",
        "model.add(keras.layers.Dense(2, activation='softmax'))"
      ],
      "metadata": {
        "id": "X9C6rI2tUgA9"
      },
      "execution_count": 166,
      "outputs": []
    },
    {
      "cell_type": "code",
      "source": [
        "model.compile(optimizer = \"nadam\", loss = \"binary_crossentropy\", metrics = [\"accuracy\", tf.keras.metrics.Recall()])\n",
        "model.fit(x_train, y_train, validation_data = (x_test, y_test), epochs = 4)"
      ],
      "metadata": {
        "id": "ZY95ZIr7UoIz",
        "colab": {
          "base_uri": "https://localhost:8080/"
        },
        "outputId": "8cc3ce81-0f8f-4261-b819-eecea968e5ff"
      },
      "execution_count": 167,
      "outputs": [
        {
          "output_type": "stream",
          "name": "stdout",
          "text": [
            "Epoch 1/4\n",
            "1372/1372 [==============================] - 10s 6ms/step - loss: 0.0141 - accuracy: 0.9956 - recall_4: 0.9956 - val_loss: 0.0093 - val_accuracy: 0.9966 - val_recall_4: 0.9966\n",
            "Epoch 2/4\n",
            "1372/1372 [==============================] - 8s 6ms/step - loss: 0.0070 - accuracy: 0.9979 - recall_4: 0.9979 - val_loss: 0.0061 - val_accuracy: 0.9992 - val_recall_4: 0.9992\n",
            "Epoch 3/4\n",
            "1372/1372 [==============================] - 8s 6ms/step - loss: 0.0043 - accuracy: 0.9987 - recall_4: 0.9987 - val_loss: 0.0056 - val_accuracy: 0.9990 - val_recall_4: 0.9990\n",
            "Epoch 4/4\n",
            "1372/1372 [==============================] - 8s 6ms/step - loss: 0.0030 - accuracy: 0.9991 - recall_4: 0.9991 - val_loss: 0.0046 - val_accuracy: 0.9990 - val_recall_4: 0.9990\n"
          ]
        },
        {
          "output_type": "execute_result",
          "data": {
            "text/plain": [
              "<keras.callbacks.History at 0x7fdff51d9c90>"
            ]
          },
          "metadata": {},
          "execution_count": 167
        }
      ]
    },
    {
      "cell_type": "markdown",
      "source": [
        "# Augmentation through GANs"
      ],
      "metadata": {
        "id": "VwRjLtWSa37C"
      }
    },
    {
      "cell_type": "code",
      "source": [
        "def generator_model():\n",
        "    model = keras.models.Sequential()\n",
        "    model.add(layers.Dense(7*7*256, use_bias=False, input_shape=(100,)))\n",
        "    model.add(layers.BatchNormalization())\n",
        "    model.add(layers.LeakyReLU())\n",
        "    model.add(layers.Reshape((7,7,256)))\n",
        "    assert model.output_shape == (None, 7, 7, 256) \n",
        "\n",
        "    model.add(layers.Conv2DTranspose(128, (5, 5), strides=(1, 1), padding='same', use_bias=False))\n",
        "    assert model.output_shape == (None, 7, 7, 128)\n",
        "    model.add(layers.BatchNormalization())\n",
        "    model.add(layers.LeakyReLU())\n",
        "\n",
        "    model.add(layers.Conv2DTranspose(64, (5, 5), strides=(2, 2), padding='same', use_bias=False))\n",
        "    assert model.output_shape == (None, 14, 14, 64)\n",
        "    model.add(layers.BatchNormalization())\n",
        "    model.add(layers. LeakyReLU())\n",
        "\n",
        "    model.add(layers.Conv2DTranspose(1, (5, 5), strides=(2, 2), padding='same', use_bias=False, activation='tanh'))\n",
        "    assert model.output_shape == (None, 28, 28, 1)\n",
        "    \n",
        "    return model"
      ],
      "metadata": {
        "id": "u1gp6usqd8dS"
      },
      "execution_count": 168,
      "outputs": []
    },
    {
      "cell_type": "code",
      "source": [
        "generator = generator_model()\n",
        "noise = tf.random.normal([1, 100])\n",
        "generated_image = generator(noise, training=False)\n",
        "plt.imshow(generated_image[0, :, :, 0], cmap='gray')"
      ],
      "metadata": {
        "colab": {
          "base_uri": "https://localhost:8080/",
          "height": 282
        },
        "id": "6uglG1Fpjlo2",
        "outputId": "74ab2cf2-4a03-42a5-83ec-2bc10158e6f2"
      },
      "execution_count": 169,
      "outputs": [
        {
          "output_type": "execute_result",
          "data": {
            "text/plain": [
              "<matplotlib.image.AxesImage at 0x7fdff4e32850>"
            ]
          },
          "metadata": {},
          "execution_count": 169
        },
        {
          "output_type": "display_data",
          "data": {
            "image/png": "[encoded data removed]",
            "text/plain": [
              "<Figure size 432x288 with 1 Axes>"
            ]
          },
          "metadata": {
            "needs_background": "light"
          }
        }
      ]
    },
    {
      "cell_type": "code",
      "source": [
        "def discriminator_model():\n",
        "    model = tf.keras.Sequential()\n",
        "    model.add(layers.Conv2D(64, (5, 5), strides=(2, 2), padding='same', input_shape=[28, 28, 1]))\n",
        "    model.add(layers.LeakyReLU())\n",
        "    model.add(layers.Dropout(0.3))\n",
        "    model.add(layers.Conv2D(128, (5, 5), strides=(2, 2), padding='same'))\n",
        "    model.add(layers.LeakyReLU())\n",
        "    model.add(layers.Dropout(0.3))\n",
        "    model.add(layers.Flatten())\n",
        "    model.add(layers.Dense(1))  # 1 output, prob of 5 vs not 5\n",
        "    return model"
      ],
      "metadata": {
        "id": "Cj3ri26mkJFW"
      },
      "execution_count": 170,
      "outputs": []
    },
    {
      "cell_type": "code",
      "source": [
        "discriminator = discriminator_model()\n",
        "cross_entropy = tf.keras.losses.BinaryCrossentropy(from_logits=True)"
      ],
      "metadata": {
        "id": "ouJf6AocVlP6"
      },
      "execution_count": 171,
      "outputs": []
    },
    {
      "cell_type": "code",
      "source": [
        "def discriminator_loss(real_output, fake_output):\n",
        "    real_loss = cross_entropy(tf.ones_like(real_output), real_output)\n",
        "    fake_loss = cross_entropy(tf.zeros_like(fake_output), fake_output)\n",
        "    total_loss = real_loss + fake_loss\n",
        "    return total_loss"
      ],
      "metadata": {
        "id": "hdueoXyVVpYB"
      },
      "execution_count": 172,
      "outputs": []
    },
    {
      "cell_type": "code",
      "source": [
        "def generator_loss(fake_output):\n",
        "    return cross_entropy(tf.ones_like(fake_output), fake_output)"
      ],
      "metadata": {
        "id": "ztOdagBGVtN3"
      },
      "execution_count": 173,
      "outputs": []
    },
    {
      "cell_type": "code",
      "source": [
        "generator_optimizer = tf.keras.optimizers.Adam(1e-4)\n",
        "discriminator_optimizer = tf.keras.optimizers.Adam(1e-4)"
      ],
      "metadata": {
        "id": "Ay_VIELrVvmJ"
      },
      "execution_count": 174,
      "outputs": []
    },
    {
      "cell_type": "code",
      "source": [
        "EPOCHS = 1200\n",
        "noise_dim = 100\n",
        "num_examples_to_generate = 16\n",
        "seed = tf.random.normal([num_examples_to_generate, noise_dim])"
      ],
      "metadata": {
        "id": "8s87uAroVxrR"
      },
      "execution_count": 175,
      "outputs": []
    },
    {
      "cell_type": "code",
      "source": [
        "@tf.function\n",
        "def train_step(images):\n",
        "    noise = tf.random.normal([BATCH_SIZE, noise_dim])\n",
        "    with tf.GradientTape() as gen_tape, tf.GradientTape() as disc_tape:\n",
        "        generated_images = generator(noise, training=True)\n",
        "\n",
        "        real_output = discriminator(images, training=True)\n",
        "        fake_output = discriminator(generated_images, training=True)\n",
        "\n",
        "        gen_loss = generator_loss(fake_output)\n",
        "        disc_loss = discriminator_loss(real_output, fake_output)\n",
        "\n",
        "    gradients_of_generator = gen_tape.gradient(gen_loss, generator.trainable_variables)\n",
        "    gradients_of_discriminator = disc_tape.gradient(disc_loss, discriminator.trainable_variables)\n",
        "\n",
        "    generator_optimizer.apply_gradients(zip(gradients_of_generator, generator.trainable_variables))\n",
        "    discriminator_optimizer.apply_gradients(zip(gradients_of_discriminator, discriminator.trainable_variables))"
      ],
      "metadata": {
        "id": "lkfvxKJ9V2mn"
      },
      "execution_count": 176,
      "outputs": []
    },
    {
      "cell_type": "code",
      "source": [
        "def generate_and_save_images(model, epoch, test_input):\n",
        "    predictions = model(test_input, training=False)\n",
        "    fig = plt.figure(figsize=(4,4))\n",
        "    for i in range(predictions.shape[0]):\n",
        "        plt.subplot(4, 4, i+1)\n",
        "        plt.imshow(predictions[i, :, :, 0] * 127.5 + 127.5, cmap='gray')\n",
        "        plt.axis('off')\n",
        "    plt.savefig('image_at_epoch_{:04d}.png'.format(epoch))\n",
        "    plt.show()"
      ],
      "metadata": {
        "id": "dUZImCoGWdCw"
      },
      "execution_count": 177,
      "outputs": []
    },
    {
      "cell_type": "code",
      "source": [
        "checkpoint_dir = './training_checkpoints'\n",
        "checkpoint_prefix = os.path.join(checkpoint_dir, \"ckpt\")\n",
        "checkpoint = tf.train.Checkpoint(generator_optimizer=generator_optimizer, discriminator_optimizer=discriminator_optimizer, generator=generator, discriminator=discriminator)"
      ],
      "metadata": {
        "id": "h3SfBgSTWovr"
      },
      "execution_count": 178,
      "outputs": []
    },
    {
      "cell_type": "code",
      "source": [
        "def train(dataset, epochs):\n",
        "    for epoch in range(epochs):\n",
        "        start = time.time()\n",
        "        train_step(dataset)\n",
        "        display.clear_output(wait=True)\n",
        "        generate_and_save_images(generator, epoch + 1, seed)\n",
        "        if (epoch + 1) % 15 == 0:\n",
        "            checkpoint.save(file_prefix = checkpoint_prefix)\n",
        "        print('Time for epoch {} is {} sec'.format(epoch + 1, time.time() - start))\n",
        "    display.clear_output(wait=True)\n",
        "    generate_and_save_images(generator, epochs, seed)\n",
        "\n",
        "# Bootstrapping\n",
        "\n",
        "# some 5 -> GAN = bad 5\n",
        "# some 5 + bad 5 -> GAN = less bad 5\n",
        "# some 5 + less bad 5 -> GAN = better 5"
      ],
      "metadata": {
        "id": "FWo-0Zu7WuwH"
      },
      "execution_count": 179,
      "outputs": []
    },
    {
      "cell_type": "code",
      "source": [
        "train(trainX2, EPOCHS)"
      ],
      "metadata": {
        "colab": {
          "base_uri": "https://localhost:8080/",
          "height": 248
        },
        "id": "-H0haArQW_2d",
        "outputId": "086936c2-8d75-4b22-f523-bdea2e6d0ef6"
      },
      "execution_count": 180,
      "outputs": [
        {
          "output_type": "display_data",
          "data": {
            "image/png": "[encoded data removed]",
            "text/plain": [
              "<Figure size 288x288 with 16 Axes>"
            ]
          },
          "metadata": {
            "needs_background": "light"
          }
        }
      ]
    },
    {
      "cell_type": "code",
      "source": [
        "# actual 5s, we only train with the 5% 5s which are present in trainX2\n",
        "\n",
        "p = random.randint(0,270)\n",
        "plt.imshow(trainX2[p, :, :, 0], cmap='gray')"
      ],
      "metadata": {
        "colab": {
          "base_uri": "https://localhost:8080/",
          "height": 282
        },
        "id": "1ifOESjVvXih",
        "outputId": "db0fce74-ac49-466c-9ad7-f13acf0630e7"
      },
      "execution_count": 181,
      "outputs": [
        {
          "output_type": "execute_result",
          "data": {
            "text/plain": [
              "<matplotlib.image.AxesImage at 0x7fdff5430910>"
            ]
          },
          "metadata": {},
          "execution_count": 181
        },
        {
          "output_type": "display_data",
          "data": {
            "image/png": "[encoded data removed]",
            "text/plain": [
              "<Figure size 432x288 with 1 Axes>"
            ]
          },
          "metadata": {
            "needs_background": "light"
          }
        }
      ]
    },
    {
      "cell_type": "code",
      "source": [
        "from numpy.random import randn\n",
        "\n",
        "def generate_latent_points(latent_dim, n_samples):\n",
        "\tx_input = randn(latent_dim * n_samples)\n",
        "\tx_input = x_input.reshape(n_samples, latent_dim)\n",
        "\treturn x_input\n",
        "\n",
        "# Currently within X, after removing 95% 5s, we have 54850 examples, out of which 271 are 5s.\n",
        "# To equalise the balance i.e. 50-50%, we want 54850-271 = 54579 more 5s\n",
        "# Augmenting data with synthetic 5s:\n",
        "\n",
        "latent_points = generate_latent_points(100, 54579)\n",
        "X = generator.predict(latent_points)\n",
        "y = np.full((54579,2), [0.,1.])\t\t# Because they are all 1s\n",
        "X.shape"
      ],
      "metadata": {
        "id": "uJS1z-7P6m_7",
        "colab": {
          "base_uri": "https://localhost:8080/"
        },
        "outputId": "bec81594-1e8f-4291-c30c-89b6dc3433d8"
      },
      "execution_count": 182,
      "outputs": [
        {
          "output_type": "execute_result",
          "data": {
            "text/plain": [
              "(54579, 28, 28, 1)"
            ]
          },
          "metadata": {},
          "execution_count": 182
        }
      ]
    },
    {
      "cell_type": "code",
      "source": [
        "# 5s made by GAN\n",
        "\n",
        "q = random.randint(0,54578)\n",
        "plt.imshow(X[q, :, :, 0], cmap='gray')"
      ],
      "metadata": {
        "colab": {
          "base_uri": "https://localhost:8080/",
          "height": 282
        },
        "id": "VR_mRbqYbgTN",
        "outputId": "fc1156ec-bd80-4339-ac69-37ba564a3672"
      },
      "execution_count": 183,
      "outputs": [
        {
          "output_type": "execute_result",
          "data": {
            "text/plain": [
              "<matplotlib.image.AxesImage at 0x7fdff40dc9d0>"
            ]
          },
          "metadata": {},
          "execution_count": 183
        },
        {
          "output_type": "display_data",
          "data": {
            "image/png": "[encoded data removed]",
            "text/plain": [
              "<Figure size 432x288 with 1 Axes>"
            ]
          },
          "metadata": {
            "needs_background": "light"
          }
        }
      ]
    },
    {
      "cell_type": "code",
      "source": [
        "checkpoint.restore(tf.train.latest_checkpoint(checkpoint_dir))"
      ],
      "metadata": {
        "colab": {
          "base_uri": "https://localhost:8080/"
        },
        "id": "U_QqNEDvcQvW",
        "outputId": "5882d441-4187-4f61-e2e9-7849e81d8fc0"
      },
      "execution_count": 184,
      "outputs": [
        {
          "output_type": "execute_result",
          "data": {
            "text/plain": [
              "<tensorflow.python.training.tracking.util.CheckpointLoadStatus at 0x7fdff40f8410>"
            ]
          },
          "metadata": {},
          "execution_count": 184
        }
      ]
    },
    {
      "cell_type": "markdown",
      "source": [
        "# Training with the new 5s"
      ],
      "metadata": {
        "id": "HSofCk4Edbha"
      }
    },
    {
      "cell_type": "code",
      "source": [
        "# Adding new 5s test and train to old data\n",
        "\n",
        "trainX1 = np.concatenate([trainX1, X], axis=0)\n",
        "trainy1 = np.concatenate([trainy1, y], axis=0)"
      ],
      "metadata": {
        "id": "eADhvvT5cUdp"
      },
      "execution_count": 185,
      "outputs": []
    },
    {
      "cell_type": "code",
      "source": [
        "# stratified sampling\n",
        "\n",
        "x_train, x_test, y_train, y_test = train_test_split(trainX1, trainy1, test_size=0.2, stratify=trainy1, random_state=146) "
      ],
      "metadata": {
        "id": "DlIgu6ojctte"
      },
      "execution_count": 186,
      "outputs": []
    },
    {
      "cell_type": "code",
      "source": [
        "model1 = keras.models.Sequential()\n",
        "model1.add(keras.layers.Conv2D(32, kernel_size=3, activation='relu', input_shape=(28, 28, 1)))\n",
        "model1.add(keras.layers.MaxPooling2D(pool_size=2))\n",
        "model1.add(keras.layers.Flatten())\n",
        "model1.add(keras.layers.Dense(128, activation='relu'))\n",
        "model1.add(keras.layers.Dropout(0.2))\n",
        "model1.add(keras.layers.Dense(2, activation='softmax'))"
      ],
      "metadata": {
        "id": "4iISBgWzgS2w"
      },
      "execution_count": 187,
      "outputs": []
    },
    {
      "cell_type": "code",
      "source": [
        "model1.compile(optimizer = \"nadam\", loss = \"binary_crossentropy\", metrics = [\"accuracy\", tf.keras.metrics.Recall()])\n",
        "model1.fit(x_train, y_train, validation_data = (x_test, y_test), epochs = 4)"
      ],
      "metadata": {
        "colab": {
          "base_uri": "https://localhost:8080/"
        },
        "id": "cSx9Cm2TgUGO",
        "outputId": "e7d27c04-f2fb-4510-cb48-6aeee5ffb8d7"
      },
      "execution_count": 188,
      "outputs": [
        {
          "output_type": "stream",
          "name": "stdout",
          "text": [
            "Epoch 1/4\n",
            "2736/2736 [==============================] - 18s 6ms/step - loss: 0.0102 - accuracy: 0.9975 - recall_5: 0.9975 - val_loss: 0.0034 - val_accuracy: 0.9992 - val_recall_5: 0.9992\n",
            "Epoch 2/4\n",
            "2736/2736 [==============================] - 16s 6ms/step - loss: 0.0028 - accuracy: 0.9992 - recall_5: 0.9992 - val_loss: 0.0027 - val_accuracy: 0.9995 - val_recall_5: 0.9995\n",
            "Epoch 3/4\n",
            "2736/2736 [==============================] - 16s 6ms/step - loss: 0.0018 - accuracy: 0.9995 - recall_5: 0.9995 - val_loss: 0.0026 - val_accuracy: 0.9994 - val_recall_5: 0.9994\n",
            "Epoch 4/4\n",
            "2736/2736 [==============================] - 16s 6ms/step - loss: 0.0013 - accuracy: 0.9995 - recall_5: 0.9995 - val_loss: 0.0045 - val_accuracy: 0.9983 - val_recall_5: 0.9983\n"
          ]
        },
        {
          "output_type": "execute_result",
          "data": {
            "text/plain": [
              "<keras.callbacks.History at 0x7fdff971f190>"
            ]
          },
          "metadata": {},
          "execution_count": 188
        }
      ]
    },
    {
      "cell_type": "markdown",
      "source": [
        "# Conclusion"
      ],
      "metadata": {
        "id": "mdjYAQAwgUkq"
      }
    },
    {
      "cell_type": "markdown",
      "source": [
        "The model with the GAN 5s performs better than the prior model. Our prior model barely had any 5s, which leads to unbalanced classes, and thus the lower accuracy.\n",
        "\n",
        "Our new model works better now, given it trained with balanced classes. This also speaks well about our synthetic 5s generated through our GAN training."
      ],
      "metadata": {
        "id": "VuT-Ya-7gv-1"
      }
    }
  ]
}